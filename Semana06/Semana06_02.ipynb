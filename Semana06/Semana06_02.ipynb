{
 "cells": [
  {
   "cell_type": "markdown",
   "id": "204d757f",
   "metadata": {},
   "source": [
    "# SEMANA 06\n",
    "Cosme Hernandez Carlos Daniel"
   ]
  },
  {
   "cell_type": "markdown",
   "id": "b6348795",
   "metadata": {},
   "source": [
    "#Temas\n",
    "\n",
    "1. Colecciones de datos\n",
    "2. Estructuras Decisivas y Estructuras Repetitivas\n",
    "3. Funciones\n",
    "4. Clases y objetos"
   ]
  },
  {
   "cell_type": "markdown",
   "id": "3f217b35",
   "metadata": {},
   "source": [
    "2. Estructuras Decisivas y Estructuras Repetitivas"
   ]
  },
  {
   "cell_type": "code",
   "execution_count": 1,
   "id": "769e0569",
   "metadata": {},
   "outputs": [],
   "source": [
    "#2.1 Estructuras decisivas (if,elis,else)"
   ]
  },
  {
   "cell_type": "code",
   "execution_count": 2,
   "id": "be6b2268",
   "metadata": {},
   "outputs": [],
   "source": [
    "#if\n",
    "#problema :dado"
   ]
  },
  {
   "cell_type": "code",
   "execution_count": 4,
   "id": "08148995",
   "metadata": {},
   "outputs": [
    {
     "name": "stdout",
     "output_type": "stream",
     "text": [
      "Producto 1:250\n",
      "Producto 2:250\n",
      "Producto 3:600\n",
      "Total a pagar es: 990.0\n"
     ]
    }
   ],
   "source": [
    "#Solucion\n",
    "P1 = float(input(\"Producto 1:\"))\n",
    "P2 = float(input(\"Producto 2:\"))\n",
    "P3 = float(input(\"Producto 3:\"))\n",
    "total = P1+P2+P3\n",
    "if total>=1000:\n",
    "    total*=0.9\n",
    "print(f\"Total a pagar es: {total}\")"
   ]
  },
  {
   "cell_type": "code",
   "execution_count": 5,
   "id": "f66b52e3",
   "metadata": {},
   "outputs": [],
   "source": [
    "#if-else"
   ]
  },
  {
   "cell_type": "code",
   "execution_count": 6,
   "id": "a4d7cbbb",
   "metadata": {},
   "outputs": [],
   "source": [
    "# Problema 01 (Recordando)\n",
    "# Dado una lista de [ALANYA, ALVA, AZAÑERO, CARRASCO, CCACCYA, COSME, CUSI, DIAZ, FLORES, GOMEZ, GOMEZ, GRANADOS, HUANCAS, JULCA, LAURA,MOTTA,PINEDO,PONCE,QUINTANA,RODRIGUEZ,SERNA,VILCA,YAURICASA]\n",
    "# Diseñar un código que muestre si el apellido de un estudiante (Ingresado por teclado) forma parte de la lista"
   ]
  },
  {
   "cell_type": "code",
   "execution_count": 9,
   "id": "e42c0887",
   "metadata": {},
   "outputs": [
    {
     "name": "stdout",
     "output_type": "stream",
     "text": [
      "Ingrese nombre a buscar:carrasco\n",
      "Si esta en la lista de LP3\n"
     ]
    }
   ],
   "source": [
    "#Solucion\n",
    "LP3 = [\"ALANYA\", \"ALVA\", \"AZAÑERO\", \"CARRASCO\", \"CCACCYA\", \"COSME\", \"CUSI\", \"DIAZ\", \"FLORES\", \"GOMEZ\", \"GOMEZ\", \"GRANADOS\", \"HUANCAS\", \"JULCA\", \"LAURA\",\"MOTTA\",\"PINEDO\",\"PONCE\",\"QUINTANA\",\"RODRIGUEZ\",\"SERNA\",\"VILCA\",\"YAURICASA\"]\n",
    "apellido = input(\"Ingrese nombre a buscar:\")\n",
    "#Como los datos de la lista estan en mayuscula, utilizo upper()\n",
    "if apellido.upper() in LP3:\n",
    "    print(\"Si esta en la lista de LP3\")\n",
    "else:\n",
    "    print(\"No esta en la lista de LP3\")"
   ]
  },
  {
   "cell_type": "code",
   "execution_count": 10,
   "id": "8de7a268",
   "metadata": {},
   "outputs": [],
   "source": [
    "# Problema 02\n",
    "# Dado el importe total de ventas realizadas por un trabajador (ingresado por teclado, \n",
    "# categorizar que tipo de empleado es, considerando la siguiente tabla:\n",
    "\n",
    "# Categoria: A -> [0, 1000]\n",
    "# Categoria: B -> <1000, 2000]\n",
    "# Categoria: C -> <2000, 5000]\n",
    "# Categoría: D -> <5000, Mas]\n",
    "\n",
    "# Tiempo asignado: 12 minutos"
   ]
  },
  {
   "cell_type": "code",
   "execution_count": 39,
   "id": "2de74abf",
   "metadata": {},
   "outputs": [
    {
     "name": "stdout",
     "output_type": "stream",
     "text": [
      "Ingrese el importe total de ventas del trabajador:\n",
      "50\n",
      "El trabajador pertenece a la Categoria A\n"
     ]
    }
   ],
   "source": [
    "#Solucion\n",
    "print(\"Ingrese el importe total de ventas del trabajador:\")\n",
    "importe = input()\n",
    "if int(importe)>=0 and int(importe)<=100:\n",
    "    print(\"El trabajador pertenece a la Categoria A\")\n",
    "if int(importe)>1000 and int(importe)<=2000:\n",
    "    print(\"El trabajador pertenece a la Categoria B\")\n",
    "if int(importe)>2000 and int(importe)<=5000:\n",
    "    print(\"El trabajador pertenece a la Categoria C\")\n",
    "if int(importe)>5000 :\n",
    "    print(\"El trabajador pertenece a la Categoria D\")\n",
    "if int(importe)<0:\n",
    "    print(\"Debe ingresar un valor no Negativo\")"
   ]
  },
  {
   "cell_type": "code",
   "execution_count": 47,
   "id": "98af7484",
   "metadata": {},
   "outputs": [
    {
     "name": "stdout",
     "output_type": "stream",
     "text": [
      "Ingrese el importe total de ventas del trabajador:\n",
      "-5\n",
      "Debe ingresar un valor no Negativo\n"
     ]
    }
   ],
   "source": [
    "# Solucion problema 3\n",
    "\n",
    "print(\"Ingrese el importe total de ventas del trabajador:\")\n",
    "importe = input()\n",
    "\n",
    "if int(importe)>=0 and int(importe)<=100:\n",
    "    print(\"El trabajador pertenece a la Categoria A\")\n",
    "elif int(importe)>1000 and int(importe)<=2000:\n",
    "    print(\"El trabajador pertenece a la Categoria B\")\n",
    "elif int(importe)>2000 and int(importe)<=5000:\n",
    "    print(\"El trabajador pertenece a la Categoria C\")\n",
    "elif int(importe)>5000 :\n",
    "    print(\"El trabajador pertenece a la Categoria D\")\n",
    "else:\n",
    "    print(\"Debe ingresar un valor no Negativo\")"
   ]
  },
  {
   "cell_type": "code",
   "execution_count": 48,
   "id": "02f13dd4",
   "metadata": {},
   "outputs": [],
   "source": [
    "#Estructuras repetitivas"
   ]
  },
  {
   "cell_type": "code",
   "execution_count": 49,
   "id": "ea25890d",
   "metadata": {},
   "outputs": [],
   "source": [
    "#for"
   ]
  },
  {
   "cell_type": "code",
   "execution_count": 50,
   "id": "5b69c59b",
   "metadata": {},
   "outputs": [],
   "source": [
    "#Problema 01:\n",
    "#mostrar los elementos de una lista utilizando for"
   ]
  },
  {
   "cell_type": "code",
   "execution_count": 51,
   "id": "c516e929",
   "metadata": {},
   "outputs": [
    {
     "name": "stdout",
     "output_type": "stream",
     "text": [
      "Yauricasa\n",
      "Granados\n",
      "Alva\n",
      "Laura\n"
     ]
    }
   ],
   "source": [
    "#solucion\n",
    "aula = ['Yauricasa','Granados','Alva','Laura']\n",
    "#por cada alumno que esta en la lista imprimir alumno\n",
    "for alumno in aula:\n",
    "    print(alumno)"
   ]
  },
  {
   "cell_type": "code",
   "execution_count": 56,
   "id": "552b9469",
   "metadata": {},
   "outputs": [
    {
     "name": "stdout",
     "output_type": "stream",
     "text": [
      "Ingrese cadena: hola\n",
      "h\n",
      "o\n",
      "l\n",
      "a\n"
     ]
    }
   ],
   "source": [
    "#problema 2\n",
    "#Dado una cadena ingresado por teclado, mostrar cada caracter de la cadena, utilizando la estructura for\n",
    "\n",
    "cadena = input(\"Ingrese cadena: \")\n",
    "for caracter in cadena:\n",
    "    print(caracter)"
   ]
  },
  {
   "cell_type": "code",
   "execution_count": 57,
   "id": "3a3ea8fa",
   "metadata": {},
   "outputs": [
    {
     "data": {
      "text/plain": [
       "range(0, 5)"
      ]
     },
     "execution_count": 57,
     "metadata": {},
     "output_type": "execute_result"
    }
   ],
   "source": [
    "#para generar rangos de los numeros range()\n",
    "range(5)"
   ]
  },
  {
   "cell_type": "code",
   "execution_count": 64,
   "id": "8a5f86e9",
   "metadata": {},
   "outputs": [
    {
     "name": "stdout",
     "output_type": "stream",
     "text": [
      "0\n",
      "1\n",
      "2\n",
      "3\n",
      "4\n",
      "5\n",
      "6\n",
      "7\n",
      "8\n",
      "9\n",
      "10\n"
     ]
    }
   ],
   "source": [
    "#imprimir los numeros de 0 a 10 utilizando for\n",
    "\n",
    "for num in range(11):\n",
    "    print(num)"
   ]
  },
  {
   "cell_type": "code",
   "execution_count": 66,
   "id": "ab2823e2",
   "metadata": {},
   "outputs": [
    {
     "name": "stdout",
     "output_type": "stream",
     "text": [
      "10\n",
      "12\n",
      "14\n",
      "16\n",
      "18\n",
      "20\n"
     ]
    }
   ],
   "source": [
    "#Problema 02\n",
    "#Imprimir los numeros de 10 a 20, utilizando for\n",
    "\n",
    "for num in range(10,22,2):\n",
    "    print(num)"
   ]
  },
  {
   "cell_type": "code",
   "execution_count": 67,
   "id": "942bf4b6",
   "metadata": {},
   "outputs": [],
   "source": [
    "# Problema 03\n",
    "# Dado una lista de números, utilizando el algoritmo de burbuja ordenarlos de menor a mayor\n",
    "\n",
    "# Codigo en java\n",
    "# package ordenamiento;\n",
    "# public class burbuja {\n",
    "#    public static void main(String[] args) {\n",
    "#        int temp; \n",
    "#        int lista[]={10,20,5,-10,100, 0, 50, 17, 2000,-1000,0};\n",
    "#        for(int i=0;i<lista.length-1;i++){\n",
    "#            for(int j=i+1; j<lista.length; j++){\n",
    "#                if(lista[i]>lista[j]){\n",
    "#                    temp = lista[i];\n",
    "#                    lista[i] = lista[j];\n",
    "#                    lista[j] = temp;\n",
    "#                }                              \n",
    "#"
   ]
  },
  {
   "cell_type": "code",
   "execution_count": 74,
   "id": "b84a4222",
   "metadata": {},
   "outputs": [
    {
     "name": "stdout",
     "output_type": "stream",
     "text": [
      "[10, 20, 5, -10, 100, 0, 50, 17, 2000, -1000, 0]\n",
      "[-1000, -10, 0, 0, 5, 10, 17, 20, 50, 100, 2000]\n"
     ]
    }
   ],
   "source": [
    "#solucion\n",
    "\n",
    "Lista = [10,20,5,-10,100, 0, 50, 17, 2000,-1000,0]\n",
    "print(Lista)\n",
    "for i in range(1,len(Lista)):\n",
    "        for j in range(0,len(Lista)-i):\n",
    "            if(Lista[j+1] < Lista[j]):\n",
    "                aux=Lista[j]\n",
    "                Lista[j]=Lista[j+1]\n",
    "                Lista[j+1]=aux\n",
    "print(Lista)"
   ]
  },
  {
   "cell_type": "code",
   "execution_count": 75,
   "id": "17014392",
   "metadata": {},
   "outputs": [
    {
     "name": "stdout",
     "output_type": "stream",
     "text": [
      "1\n",
      "2\n",
      "3\n",
      "4\n",
      "5\n",
      "6\n",
      "7\n",
      "8\n",
      "9\n",
      "10\n"
     ]
    }
   ],
   "source": [
    "numero = 1\n",
    "fin =10\n",
    "while numero <= fin:\n",
    "    print(numero)\n",
    "    numero+= 1"
   ]
  },
  {
   "cell_type": "code",
   "execution_count": null,
   "id": "c709512a",
   "metadata": {},
   "outputs": [],
   "source": []
  }
 ],
 "metadata": {
  "kernelspec": {
   "display_name": "Python 3 (ipykernel)",
   "language": "python",
   "name": "python3"
  },
  "language_info": {
   "codemirror_mode": {
    "name": "ipython",
    "version": 3
   },
   "file_extension": ".py",
   "mimetype": "text/x-python",
   "name": "python",
   "nbconvert_exporter": "python",
   "pygments_lexer": "ipython3",
   "version": "3.9.7"
  }
 },
 "nbformat": 4,
 "nbformat_minor": 5
}
