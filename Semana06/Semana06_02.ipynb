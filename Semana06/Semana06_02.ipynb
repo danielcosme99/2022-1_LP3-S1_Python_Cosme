{
 "cells": [
  {
   "cell_type": "markdown",
   "id": "cfd26f92",
   "metadata": {},
   "source": [
    "# SEMANA 06\n",
    "Cosme Hernandez Carlos Daniel"
   ]
  },
  {
   "cell_type": "markdown",
   "id": "24cd639f",
   "metadata": {},
   "source": [
    "#Temas\n",
    "\n",
    "1. Colecciones de datos\n",
    "2. Estructuras Decisivas y Estructuras Repetitivas\n",
    "3. Funciones\n",
    "4. Clases y objetos"
   ]
  },
  {
   "cell_type": "markdown",
   "id": "60767f5a",
   "metadata": {},
   "source": [
    "2. Estructuras Decisivas y Estructuras Repetitivas"
   ]
  },
  {
   "cell_type": "code",
   "execution_count": 1,
   "id": "9f6819e3",
   "metadata": {},
   "outputs": [],
   "source": [
    "#2.1 Estructuras decisivas (if,elis,else)"
   ]
  },
  {
   "cell_type": "code",
   "execution_count": 2,
   "id": "f4236a83",
   "metadata": {},
   "outputs": [],
   "source": [
    "#if\n",
    "#problema :dado"
   ]
  },
  {
   "cell_type": "code",
   "execution_count": 4,
   "id": "c6832eab",
   "metadata": {},
   "outputs": [
    {
     "name": "stdout",
     "output_type": "stream",
     "text": [
      "Producto 1:250\n",
      "Producto 2:250\n",
      "Producto 3:600\n",
      "Total a pagar es: 990.0\n"
     ]
    }
   ],
   "source": [
    "#Solucion\n",
    "P1 = float(input(\"Producto 1:\"))\n",
    "P2 = float(input(\"Producto 2:\"))\n",
    "P3 = float(input(\"Producto 3:\"))\n",
    "total = P1+P2+P3\n",
    "if total>=1000:\n",
    "    total*=0.9\n",
    "print(f\"Total a pagar es: {total}\")"
   ]
  },
  {
   "cell_type": "code",
   "execution_count": 5,
   "id": "d2cd20f0",
   "metadata": {},
   "outputs": [],
   "source": [
    "#if-else"
   ]
  },
  {
   "cell_type": "code",
   "execution_count": 6,
   "id": "04ec52c5",
   "metadata": {},
   "outputs": [],
   "source": [
    "# Problema 01 (Recordando)\n",
    "# Dado una lista de [ALANYA, ALVA, AZAÑERO, CARRASCO, CCACCYA, COSME, CUSI, DIAZ, FLORES, GOMEZ, GOMEZ, GRANADOS, HUANCAS, JULCA, LAURA,MOTTA,PINEDO,PONCE,QUINTANA,RODRIGUEZ,SERNA,VILCA,YAURICASA]\n",
    "# Diseñar un código que muestre si el apellido de un estudiante (Ingresado por teclado) forma parte de la lista"
   ]
  },
  {
   "cell_type": "code",
   "execution_count": 9,
   "id": "e6b25e88",
   "metadata": {},
   "outputs": [
    {
     "name": "stdout",
     "output_type": "stream",
     "text": [
      "Ingrese nombre a buscar:carrasco\n",
      "Si esta en la lista de LP3\n"
     ]
    }
   ],
   "source": [
    "#Solucion\n",
    "LP3 = [\"ALANYA\", \"ALVA\", \"AZAÑERO\", \"CARRASCO\", \"CCACCYA\", \"COSME\", \"CUSI\", \"DIAZ\", \"FLORES\", \"GOMEZ\", \"GOMEZ\", \"GRANADOS\", \"HUANCAS\", \"JULCA\", \"LAURA\",\"MOTTA\",\"PINEDO\",\"PONCE\",\"QUINTANA\",\"RODRIGUEZ\",\"SERNA\",\"VILCA\",\"YAURICASA\"]\n",
    "apellido = input(\"Ingrese nombre a buscar:\")\n",
    "#Como los datos de la lista estan en mayuscula, utilizo upper()\n",
    "if apellido.upper() in LP3:\n",
    "    print(\"Si esta en la lista de LP3\")\n",
    "else:\n",
    "    print(\"No esta en la lista de LP3\")"
   ]
  },
  {
   "cell_type": "code",
   "execution_count": 10,
   "id": "90ce1539",
   "metadata": {},
   "outputs": [],
   "source": [
    "# Problema 02\n",
    "# Dado el importe total de ventas realizadas por un trabajador (ingresado por teclado, \n",
    "# categorizar que tipo de empleado es, considerando la siguiente tabla:\n",
    "\n",
    "# Categoria: A -> [0, 1000]\n",
    "# Categoria: B -> <1000, 2000]\n",
    "# Categoria: C -> <2000, 5000]\n",
    "# Categoría: D -> <5000, Mas]\n",
    "\n",
    "# Tiempo asignado: 12 minutos"
   ]
  },
  {
   "cell_type": "code",
   "execution_count": 39,
   "id": "0a1e6bba",
   "metadata": {},
   "outputs": [
    {
     "name": "stdout",
     "output_type": "stream",
     "text": [
      "Ingrese el importe total de ventas del trabajador:\n",
      "50\n",
      "El trabajador pertenece a la Categoria A\n"
     ]
    }
   ],
   "source": [
    "#Solucion\n",
    "print(\"Ingrese el importe total de ventas del trabajador:\")\n",
    "importe = input()\n",
    "if int(importe)>=0 and int(importe)<=100:\n",
    "    print(\"El trabajador pertenece a la Categoria A\")\n",
    "if int(importe)>1000 and int(importe)<=2000:\n",
    "    print(\"El trabajador pertenece a la Categoria B\")\n",
    "if int(importe)>2000 and int(importe)<=5000:\n",
    "    print(\"El trabajador pertenece a la Categoria C\")\n",
    "if int(importe)>5000 :\n",
    "    print(\"El trabajador pertenece a la Categoria D\")\n",
    "if int(importe)<0:\n",
    "    print(\"Debe ingresar un valor no Negativo\")"
   ]
  },
  {
   "cell_type": "code",
   "execution_count": 47,
   "id": "13366106",
   "metadata": {},
   "outputs": [
    {
     "name": "stdout",
     "output_type": "stream",
     "text": [
      "Ingrese el importe total de ventas del trabajador:\n",
      "-5\n",
      "Debe ingresar un valor no Negativo\n"
     ]
    }
   ],
   "source": [
    "# Solucion problema 3\n",
    "\n",
    "print(\"Ingrese el importe total de ventas del trabajador:\")\n",
    "importe = input()\n",
    "\n",
    "if int(importe)>=0 and int(importe)<=100:\n",
    "    print(\"El trabajador pertenece a la Categoria A\")\n",
    "elif int(importe)>1000 and int(importe)<=2000:\n",
    "    print(\"El trabajador pertenece a la Categoria B\")\n",
    "elif int(importe)>2000 and int(importe)<=5000:\n",
    "    print(\"El trabajador pertenece a la Categoria C\")\n",
    "elif int(importe)>5000 :\n",
    "    print(\"El trabajador pertenece a la Categoria D\")\n",
    "else:\n",
    "    print(\"Debe ingresar un valor no Negativo\")"
   ]
  },
  {
   "cell_type": "code",
   "execution_count": 48,
   "id": "4ea55b9f",
   "metadata": {},
   "outputs": [],
   "source": [
    "#Estructuras repetitivas"
   ]
  },
  {
   "cell_type": "code",
   "execution_count": 49,
   "id": "7aae3158",
   "metadata": {},
   "outputs": [],
   "source": [
    "#for"
   ]
  },
  {
   "cell_type": "code",
   "execution_count": 50,
   "id": "5a74dbc9",
   "metadata": {},
   "outputs": [],
   "source": [
    "#Problema 01:\n",
    "#mostrar los elementos de una lista utilizando for"
   ]
  },
  {
   "cell_type": "code",
   "execution_count": 51,
   "id": "09a129f6",
   "metadata": {},
   "outputs": [
    {
     "name": "stdout",
     "output_type": "stream",
     "text": [
      "Yauricasa\n",
      "Granados\n",
      "Alva\n",
      "Laura\n"
     ]
    }
   ],
   "source": [
    "#solucion\n",
    "aula = ['Yauricasa','Granados','Alva','Laura']\n",
    "#por cada alumno que esta en la lista imprimir alumno\n",
    "for alumno in aula:\n",
    "    print(alumno)"
   ]
  },
  {
   "cell_type": "code",
   "execution_count": 56,
   "id": "3c59316e",
   "metadata": {},
   "outputs": [
    {
     "name": "stdout",
     "output_type": "stream",
     "text": [
      "Ingrese cadena: hola\n",
      "h\n",
      "o\n",
      "l\n",
      "a\n"
     ]
    }
   ],
   "source": [
    "#problema 2\n",
    "#Dado una cadena ingresado por teclado, mostrar cada caracter de la cadena, utilizando la estructura for\n",
    "\n",
    "cadena = input(\"Ingrese cadena: \")\n",
    "for caracter in cadena:\n",
    "    print(caracter)"
   ]
  },
  {
   "cell_type": "code",
   "execution_count": 57,
   "id": "1e06746b",
   "metadata": {},
   "outputs": [
    {
     "data": {
      "text/plain": [
       "range(0, 5)"
      ]
     },
     "execution_count": 57,
     "metadata": {},
     "output_type": "execute_result"
    }
   ],
   "source": [
    "#para generar rangos de los numeros range()\n",
    "range(5)"
   ]
  },
  {
   "cell_type": "code",
   "execution_count": 64,
   "id": "240070ab",
   "metadata": {},
   "outputs": [
    {
     "name": "stdout",
     "output_type": "stream",
     "text": [
      "0\n",
      "1\n",
      "2\n",
      "3\n",
      "4\n",
      "5\n",
      "6\n",
      "7\n",
      "8\n",
      "9\n",
      "10\n"
     ]
    }
   ],
   "source": [
    "#imprimir los numeros de 0 a 10 utilizando for\n",
    "\n",
    "for num in range(11):\n",
    "    print(num)"
   ]
  },
  {
   "cell_type": "code",
   "execution_count": 66,
   "id": "152d8d3f",
   "metadata": {},
   "outputs": [
    {
     "name": "stdout",
     "output_type": "stream",
     "text": [
      "10\n",
      "12\n",
      "14\n",
      "16\n",
      "18\n",
      "20\n"
     ]
    }
   ],
   "source": [
    "#Problema 02\n",
    "#Imprimir los numeros de 10 a 20, utilizando for\n",
    "\n",
    "for num in range(10,22,2):\n",
    "    print(num)"
   ]
  },
  {
   "cell_type": "code",
   "execution_count": 67,
   "id": "3df6f0b6",
   "metadata": {},
   "outputs": [],
   "source": [
    "# Problema 03\n",
    "# Dado una lista de números, utilizando el algoritmo de burbuja ordenarlos de menor a mayor\n",
    "\n",
    "# Codigo en java\n",
    "# package ordenamiento;\n",
    "# public class burbuja {\n",
    "#    public static void main(String[] args) {\n",
    "#        int temp; \n",
    "#        int lista[]={10,20,5,-10,100, 0, 50, 17, 2000,-1000,0};\n",
    "#        for(int i=0;i<lista.length-1;i++){\n",
    "#            for(int j=i+1; j<lista.length; j++){\n",
    "#                if(lista[i]>lista[j]){\n",
    "#                    temp = lista[i];\n",
    "#                    lista[i] = lista[j];\n",
    "#                    lista[j] = temp;\n",
    "#                }                              \n",
    "#"
   ]
  },
  {
   "cell_type": "code",
   "execution_count": 74,
   "id": "228faeb6",
   "metadata": {},
   "outputs": [
    {
     "name": "stdout",
     "output_type": "stream",
     "text": [
      "[10, 20, 5, -10, 100, 0, 50, 17, 2000, -1000, 0]\n",
      "[-1000, -10, 0, 0, 5, 10, 17, 20, 50, 100, 2000]\n"
     ]
    }
   ],
   "source": [
    "#solucion\n",
    "\n",
    "Lista = [10,20,5,-10,100, 0, 50, 17, 2000,-1000,0]\n",
    "print(Lista)\n",
    "for i in range(1,len(Lista)):\n",
    "        for j in range(0,len(Lista)-i):\n",
    "            if(Lista[j+1] < Lista[j]):\n",
    "                aux=Lista[j]\n",
    "                Lista[j]=Lista[j+1]\n",
    "                Lista[j+1]=aux\n",
    "print(Lista)"
   ]
  },
  {
   "cell_type": "code",
   "execution_count": null,
   "id": "c577db2c",
   "metadata": {},
   "outputs": [],
   "source": []
  }
 ],
 "metadata": {
  "kernelspec": {
   "display_name": "Python 3 (ipykernel)",
   "language": "python",
   "name": "python3"
  },
  "language_info": {
   "codemirror_mode": {
    "name": "ipython",
    "version": 3
   },
   "file_extension": ".py",
   "mimetype": "text/x-python",
   "name": "python",
   "nbconvert_exporter": "python",
   "pygments_lexer": "ipython3",
   "version": "3.9.7"
  }
 },
 "nbformat": 4,
 "nbformat_minor": 5
}
