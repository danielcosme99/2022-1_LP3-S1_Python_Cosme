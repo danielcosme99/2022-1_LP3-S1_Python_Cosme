{
 "cells": [
  {
   "cell_type": "markdown",
   "id": "bd135758",
   "metadata": {},
   "source": [
    "# SEMANA 06\n",
    "Cosme Hernandez Carlos Daniel"
   ]
  },
  {
   "cell_type": "markdown",
   "id": "0bb5d9a4",
   "metadata": {},
   "source": [
    "#Temas\n",
    "\n",
    "1. Colecciones de datos\n",
    "2. Estructuras Decisivas y Estructuras Repetitivas\n",
    "3. Funciones\n",
    "4. Clases y objetos"
   ]
  },
  {
   "cell_type": "markdown",
   "id": "6e5e7ea0",
   "metadata": {},
   "source": [
    "4. Clases y objetos"
   ]
  },
  {
   "cell_type": "code",
   "execution_count": 1,
   "id": "d4eb5742",
   "metadata": {},
   "outputs": [],
   "source": [
    "#Problema 01\n",
    "\n",
    "#Crear la siguiente clase:\n",
    "#  -Clase: Persona\n",
    "#  -Atributos: nombre,apellido,talla,dni"
   ]
  },
  {
   "cell_type": "code",
   "execution_count": 2,
   "id": "17011ed9",
   "metadata": {},
   "outputs": [],
   "source": [
    "class Persona:\n",
    "    nombre = \"\"\n",
    "    apellidos = \"\"\n",
    "    dni = \"\"\n",
    "    talla = 0"
   ]
  },
  {
   "cell_type": "code",
   "execution_count": 4,
   "id": "47dde817",
   "metadata": {},
   "outputs": [
    {
     "name": "stdout",
     "output_type": "stream",
     "text": [
      "persona1\n",
      "Nombre: Pablo\n",
      "Apellidos: Perez Gonzales\n",
      "DNI: 12345678\n",
      "Talla: 1.7\n"
     ]
    }
   ],
   "source": [
    "#Creamos un objeto persona1 de la clase Persona() y le asignamos valores\n",
    "#Creacion del objeto persona1\n",
    "\n",
    "persona1 = Persona()\n",
    "\n",
    "# asignamos valores al objeto\n",
    "persona1.nombre = \"Pablo\"\n",
    "persona1.apellidos = \"Perez Gonzales\"\n",
    "persona1.dni = \"12345678\"\n",
    "persona1.talla = 1.7\n",
    "\n",
    "#Para mostrar los valores del objeto:\n",
    "\n",
    "print(\"persona1\")\n",
    "print(f\"Nombre: {persona1.nombre}\")\n",
    "print(f\"Apellidos: {persona1.apellidos}\")\n",
    "print(f\"DNI: {persona1.dni}\")\n",
    "print(f\"Talla: {persona1.talla}\")\n"
   ]
  },
  {
   "cell_type": "code",
   "execution_count": 5,
   "id": "6949602f",
   "metadata": {},
   "outputs": [],
   "source": [
    "# Para utilizar constructores utilizamos: __init__\n",
    "#¿Que es un constructor?\n",
    "# -Es un metodo\n",
    "# -Sirve para inicializar valores a una clase"
   ]
  },
  {
   "cell_type": "code",
   "execution_count": null,
   "id": "eabe537e",
   "metadata": {},
   "outputs": [],
   "source": [
    "# Problema 02:\n",
    "# Crear la siguiente clase y utilizar constructores:\n",
    "# - Clase: Curso\n",
    "# - Atributos: Codigo, Nombre, Horas, Creditos,"
   ]
  },
  {
   "cell_type": "code",
   "execution_count": 6,
   "id": "7aa90a16",
   "metadata": {},
   "outputs": [],
   "source": [
    "#solucion:\n",
    "class Curso:\n",
    "    def __init__(self,codigo,nombre,horas,creditos):\n",
    "        self.codigo = codigo\n",
    "        self.nombre = nombre\n",
    "        self.horas = horas\n",
    "        self.creditos = creditos\n",
    "    def mostrar_datos_curso(self):\n",
    "        print(f\"Curso: {self.nombre}\")\n",
    "        print(f\"Codigo: {self.codigo}\")\n",
    "        print(f\"Horas: {self.horas}\")\n",
    "        print(f\"Creditos: {self.creditos}\")\n",
    "        "
   ]
  },
  {
   "cell_type": "code",
   "execution_count": 7,
   "id": "7bc7f1c8",
   "metadata": {},
   "outputs": [],
   "source": [
    "#Creamos el objeto curso1 y le mandamos parametros\n",
    "curso1 = Curso(\"C0501\",\"LP3\",6,3)"
   ]
  },
  {
   "cell_type": "code",
   "execution_count": 8,
   "id": "a6076dbf",
   "metadata": {},
   "outputs": [
    {
     "name": "stdout",
     "output_type": "stream",
     "text": [
      "Curso: LP3\n",
      "Codigo: C0501\n",
      "Horas: 6\n",
      "Creditos: 3\n"
     ]
    }
   ],
   "source": [
    "# Mostramos los datos completos del curso, ejecutando el metodo mostrar_datos_curso()\n",
    "curso1.mostrar_datos_curso();"
   ]
  },
  {
   "cell_type": "code",
   "execution_count": null,
   "id": "5151edc7",
   "metadata": {},
   "outputs": [],
   "source": []
  }
 ],
 "metadata": {
  "kernelspec": {
   "display_name": "Python 3 (ipykernel)",
   "language": "python",
   "name": "python3"
  },
  "language_info": {
   "codemirror_mode": {
    "name": "ipython",
    "version": 3
   },
   "file_extension": ".py",
   "mimetype": "text/x-python",
   "name": "python",
   "nbconvert_exporter": "python",
   "pygments_lexer": "ipython3",
   "version": "3.9.7"
  }
 },
 "nbformat": 4,
 "nbformat_minor": 5
}
