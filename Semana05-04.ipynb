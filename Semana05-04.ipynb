{
 "cells": [
  {
   "cell_type": "markdown",
   "id": "3e053fec",
   "metadata": {},
   "source": [
    "# SEMANA 05\n",
    "Cosme Hernandez Carlos Daniel"
   ]
  },
  {
   "cell_type": "markdown",
   "id": "01ed69f4",
   "metadata": {},
   "source": [
    "Temas"
   ]
  },
  {
   "cell_type": "markdown",
   "id": "4e656748",
   "metadata": {},
   "source": [
    "1. Numeros\n",
    "2. Variables\n",
    "3. Manejo de Cadenas\n",
    "4. Ingreso de datos por teclado\n",
    "5. Operadores"
   ]
  },
  {
   "cell_type": "markdown",
   "id": "9e62a03d",
   "metadata": {},
   "source": [
    "4. Ingreso de datos por teclado"
   ]
  },
  {
   "cell_type": "code",
   "execution_count": 1,
   "id": "864c6c16",
   "metadata": {},
   "outputs": [
    {
     "name": "stdout",
     "output_type": "stream",
     "text": [
      "¿Cual es tu nombre?\n",
      "Carlos\n",
      "Hola Carlos\n"
     ]
    }
   ],
   "source": [
    "#Funcion input()\n",
    "print(\"¿Cual es tu nombre?\")\n",
    "nombre = input()\n",
    "print(\"Hola \" + nombre)"
   ]
  },
  {
   "cell_type": "code",
   "execution_count": 2,
   "id": "558567be",
   "metadata": {},
   "outputs": [
    {
     "name": "stdout",
     "output_type": "stream",
     "text": [
      "numero1: \n",
      "4\n",
      "numero2: \n",
      "5\n",
      "El resultado es 9\n"
     ]
    }
   ],
   "source": [
    "#Cuando ingresa un valor por teclado lo hace como cadena\n",
    "print(\"numero1: \")\n",
    "numero1 = input()\n",
    "print(\"numero2: \")\n",
    "numero2 = input()\n",
    "numero3 = int(numero1) + int(numero2)\n",
    "print(f\"El resultado es {numero3}\")"
   ]
  }
 ],
 "metadata": {
  "kernelspec": {
   "display_name": "Python 3 (ipykernel)",
   "language": "python",
   "name": "python3"
  },
  "language_info": {
   "codemirror_mode": {
    "name": "ipython",
    "version": 3
   },
   "file_extension": ".py",
   "mimetype": "text/x-python",
   "name": "python",
   "nbconvert_exporter": "python",
   "pygments_lexer": "ipython3",
   "version": "3.9.7"
  }
 },
 "nbformat": 4,
 "nbformat_minor": 5
}
