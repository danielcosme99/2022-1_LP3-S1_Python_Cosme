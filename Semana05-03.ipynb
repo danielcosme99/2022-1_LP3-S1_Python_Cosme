{
 "cells": [
  {
   "cell_type": "markdown",
   "id": "b47624e5",
   "metadata": {},
   "source": [
    "# SEMANA 05\n",
    "Cosme Hernandez Carlos Daniel"
   ]
  },
  {
   "cell_type": "markdown",
   "id": "43dd18c7",
   "metadata": {},
   "source": [
    "Temas"
   ]
  },
  {
   "cell_type": "markdown",
   "id": "c981e6ad",
   "metadata": {},
   "source": [
    "1. Numeros\n",
    "2. Variables\n",
    "3. Manejo de Cadenas\n",
    "4. Ingreso de datos por teclado\n",
    "5. Operadores"
   ]
  },
  {
   "cell_type": "markdown",
   "id": "5ac3c79d",
   "metadata": {},
   "source": [
    "3. Manejo de Cadenas"
   ]
  },
  {
   "cell_type": "code",
   "execution_count": 1,
   "id": "26027a79",
   "metadata": {},
   "outputs": [
    {
     "data": {
      "text/plain": [
       "'Universidad Nacional Tecnologica de Lima Sur'"
      ]
     },
     "execution_count": 1,
     "metadata": {},
     "output_type": "execute_result"
    }
   ],
   "source": [
    "cadena = \"Universidad Nacional Tecnologica de Lima Sur\"\n",
    "cadena"
   ]
  },
  {
   "cell_type": "code",
   "execution_count": 2,
   "id": "e41cd916",
   "metadata": {},
   "outputs": [
    {
     "data": {
      "text/plain": [
       "'r'"
      ]
     },
     "execution_count": 2,
     "metadata": {},
     "output_type": "execute_result"
    }
   ],
   "source": [
    "#Universidad Nacional Tecnologica de Lima Sur\n",
    "#01234....                             -3-2-1\n",
    "cadena[5]"
   ]
  },
  {
   "cell_type": "code",
   "execution_count": 3,
   "id": "d53885e1",
   "metadata": {},
   "outputs": [
    {
     "data": {
      "text/plain": [
       "'d'"
      ]
     },
     "execution_count": 3,
     "metadata": {},
     "output_type": "execute_result"
    }
   ],
   "source": [
    "cadena[10]"
   ]
  },
  {
   "cell_type": "code",
   "execution_count": 4,
   "id": "d28a011f",
   "metadata": {},
   "outputs": [
    {
     "data": {
      "text/plain": [
       "' '"
      ]
     },
     "execution_count": 4,
     "metadata": {},
     "output_type": "execute_result"
    }
   ],
   "source": [
    "cadena[11]"
   ]
  },
  {
   "cell_type": "code",
   "execution_count": 5,
   "id": "e96af35f",
   "metadata": {},
   "outputs": [
    {
     "data": {
      "text/plain": [
       "'a'"
      ]
     },
     "execution_count": 5,
     "metadata": {},
     "output_type": "execute_result"
    }
   ],
   "source": [
    "cadena[-5]"
   ]
  },
  {
   "cell_type": "code",
   "execution_count": 6,
   "id": "d22ba407",
   "metadata": {},
   "outputs": [
    {
     "data": {
      "text/plain": [
       "'T'"
      ]
     },
     "execution_count": 6,
     "metadata": {},
     "output_type": "execute_result"
    }
   ],
   "source": [
    "cadena[21]"
   ]
  },
  {
   "cell_type": "code",
   "execution_count": 7,
   "id": "8abf842d",
   "metadata": {},
   "outputs": [
    {
     "data": {
      "text/plain": [
       "'T'"
      ]
     },
     "execution_count": 7,
     "metadata": {},
     "output_type": "execute_result"
    }
   ],
   "source": [
    "cadena[-23]"
   ]
  },
  {
   "cell_type": "code",
   "execution_count": 8,
   "id": "185e7eb3",
   "metadata": {},
   "outputs": [
    {
     "data": {
      "text/plain": [
       "'versi'"
      ]
     },
     "execution_count": 8,
     "metadata": {},
     "output_type": "execute_result"
    }
   ],
   "source": [
    "#Para mostrar una subcadena (desde, hasta una antes)\n",
    "#En java era substring()\n",
    "cadena[3:8]"
   ]
  },
  {
   "cell_type": "code",
   "execution_count": 11,
   "id": "74e95f2a",
   "metadata": {},
   "outputs": [
    {
     "data": {
      "text/plain": [
       "44"
      ]
     },
     "execution_count": 11,
     "metadata": {},
     "output_type": "execute_result"
    }
   ],
   "source": [
    "#Para saber el tamaño de una cadena utilizamos Len()\n",
    "#incluye espacios en blanco\n",
    "len(cadena)"
   ]
  },
  {
   "cell_type": "code",
   "execution_count": 12,
   "id": "424ac2fd",
   "metadata": {},
   "outputs": [
    {
     "data": {
      "text/plain": [
       "'UNIVERSIDAD NACIONAL TECNOLOGICA DE LIMA SUR'"
      ]
     },
     "execution_count": 12,
     "metadata": {},
     "output_type": "execute_result"
    }
   ],
   "source": [
    "#Para mostrar una cadena en mayuscula utilizamos upper()\n",
    "cadena.upper()"
   ]
  },
  {
   "cell_type": "code",
   "execution_count": 13,
   "id": "4dfbce85",
   "metadata": {},
   "outputs": [
    {
     "data": {
      "text/plain": [
       "'Universidad Nacional Tecnologica de Lima Sur'"
      ]
     },
     "execution_count": 13,
     "metadata": {},
     "output_type": "execute_result"
    }
   ],
   "source": [
    "#OJITO.....SOLO LO MUESTRA, PORQUE EL ORIGINAL SIGUE SIENDO IGUAL\n",
    "cadena"
   ]
  },
  {
   "cell_type": "code",
   "execution_count": 14,
   "id": "6559f914",
   "metadata": {},
   "outputs": [
    {
     "data": {
      "text/plain": [
       "'UNIVERSIDAD NACIONAL TECNOLOGICA DE LIMA SUR'"
      ]
     },
     "execution_count": 14,
     "metadata": {},
     "output_type": "execute_result"
    }
   ],
   "source": [
    "#Si desearas cambiarlo harias:\n",
    "cadena = cadena.upper()\n",
    "cadena"
   ]
  },
  {
   "cell_type": "code",
   "execution_count": 15,
   "id": "83d5cdc8",
   "metadata": {},
   "outputs": [
    {
     "data": {
      "text/plain": [
       "'universidad nacional tecnologica de lima sur'"
      ]
     },
     "execution_count": 15,
     "metadata": {},
     "output_type": "execute_result"
    }
   ],
   "source": [
    "#Para mostrar una cadena en minuscula utilizamos lower()\n",
    "cadena.lower()"
   ]
  },
  {
   "cell_type": "code",
   "execution_count": 16,
   "id": "3ade6ce8",
   "metadata": {},
   "outputs": [
    {
     "data": {
      "text/plain": [
       "['UNIVERSIDAD', 'NACIONAL', 'TECNOLOGICA', 'DE', 'LIMA', 'SUR']"
      ]
     },
     "execution_count": 16,
     "metadata": {},
     "output_type": "execute_result"
    }
   ],
   "source": [
    "#Para generar una lista a partir de una cadena utilizamos split()\n",
    "cadena.split()"
   ]
  },
  {
   "cell_type": "code",
   "execution_count": 17,
   "id": "1703e177",
   "metadata": {},
   "outputs": [
    {
     "data": {
      "text/plain": [
       "['UNIVERSID', 'D N', 'CION', 'L TECNOLOGIC', ' DE LIM', ' SUR']"
      ]
     },
     "execution_count": 17,
     "metadata": {},
     "output_type": "execute_result"
    }
   ],
   "source": [
    "#Para generar una lista utilizando un criterio de separacion a partir de una cadena split()\n",
    "#en este caso vamos a generar una lista de toda la cadena utilizando como criterio de separacion la letra \"A\"\n",
    "cadena.split(\"A\")"
   ]
  },
  {
   "cell_type": "code",
   "execution_count": 19,
   "id": "908ac76b",
   "metadata": {},
   "outputs": [
    {
     "name": "stdout",
     "output_type": "stream",
     "text": [
      "Buenos dias Daniel Cosme\n"
     ]
    }
   ],
   "source": [
    "#Forma clasica para concatenar con +\n",
    "nombre = \"Daniel Cosme\"\n",
    "print(\"Buenos dias \" + nombre)"
   ]
  },
  {
   "cell_type": "code",
   "execution_count": 20,
   "id": "674dcad4",
   "metadata": {},
   "outputs": [
    {
     "name": "stdout",
     "output_type": "stream",
     "text": [
      "Hola Pablo Levano ya se que tienes 12 años\n"
     ]
    }
   ],
   "source": [
    "#Utilizando el .format()\n",
    "nombre = \"Pablo Levano\"\n",
    "edad = 12\n",
    "print(\"Hola {} ya se que tienes {} años\".format(nombre,edad))"
   ]
  },
  {
   "cell_type": "code",
   "execution_count": 24,
   "id": "c951a535",
   "metadata": {},
   "outputs": [
    {
     "name": "stdout",
     "output_type": "stream",
     "text": [
      "10/3 es = 3.3333333333333335\n",
      "10/3 es = 3.333\n"
     ]
    }
   ],
   "source": [
    "#Dar formato a numeros con muchos decimales\n",
    "resultado = 10/3\n",
    "print(\"10/3 es = {}\".format(resultado))\n",
    "print(\"10/3 es = {r:1.3f}\".format(r=resultado))"
   ]
  },
  {
   "cell_type": "code",
   "execution_count": 26,
   "id": "8d872bfa",
   "metadata": {},
   "outputs": [
    {
     "name": "stdout",
     "output_type": "stream",
     "text": [
      "Buenos dias Daneli Levano, ya se que tienes 10 años\n"
     ]
    }
   ],
   "source": [
    "#Dar formato con f\n",
    "#la funcion f esta disponible desde la version 3.6 en adelante\n",
    "nombre = \"Daneli Levano\"\n",
    "edad = 10\n",
    "print(f\"Buenos dias {nombre}, ya se que tienes {edad} años\")"
   ]
  },
  {
   "cell_type": "code",
   "execution_count": 28,
   "id": "acc0a51e",
   "metadata": {},
   "outputs": [
    {
     "name": "stdout",
     "output_type": "stream",
     "text": [
      "10/3 es = 3.3333333333333335\n",
      "10/3 es = 3.333\n"
     ]
    }
   ],
   "source": [
    "#dar formato a numeros con muchos decimales con f\n",
    "resultado = 10/3\n",
    "print(f\"10/3 es = {resultado}\")\n",
    "print(f\"10/3 es = {resultado:1.3f}\")"
   ]
  }
 ],
 "metadata": {
  "kernelspec": {
   "display_name": "Python 3 (ipykernel)",
   "language": "python",
   "name": "python3"
  },
  "language_info": {
   "codemirror_mode": {
    "name": "ipython",
    "version": 3
   },
   "file_extension": ".py",
   "mimetype": "text/x-python",
   "name": "python",
   "nbconvert_exporter": "python",
   "pygments_lexer": "ipython3",
   "version": "3.9.7"
  }
 },
 "nbformat": 4,
 "nbformat_minor": 5
}
